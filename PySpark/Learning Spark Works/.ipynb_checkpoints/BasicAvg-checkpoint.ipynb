{
 "cells": [
  {
   "cell_type": "code",
   "execution_count": 1,
   "metadata": {},
   "outputs": [],
   "source": [
    "import findspark\n",
    "findspark.init()\n",
    "from pyspark import SparkConf,SparkContext\n",
    "import sys\n",
    "import os"
   ]
  },
  {
   "cell_type": "code",
   "execution_count": 2,
   "metadata": {},
   "outputs": [],
   "source": [
    "master = \"local\"\n",
    "if len(sys.argv) == 2:\n",
    "    # sys.argv[0]表示的是文件的保存位置,从sys.argv[1]开始才是参数位置\n",
    "    master = sys.argv[1]\n",
    "sc = SparkContext(master,\"BasicAvg\")"
   ]
  },
  {
   "cell_type": "code",
   "execution_count": 4,
   "metadata": {},
   "outputs": [
    {
     "name": "stdout",
     "output_type": "stream",
     "text": [
      "2.5\n"
     ]
    }
   ],
   "source": [
    "nums = sc.parallelize([1,2,3,4])\n",
    "# 先进行map操作，然后就是fold求平均数\n",
    "output = nums.map(lambda x:(x,1)).fold((0,0),(lambda x,y:(x[0]+y[0],x[1]+y[1])))\n",
    "print(output[0]/ float(output[1]))"
   ]
  }
 ],
 "metadata": {
  "kernelspec": {
   "display_name": "Python 3",
   "language": "python",
   "name": "python3"
  },
  "language_info": {
   "codemirror_mode": {
    "name": "ipython",
    "version": 3
   },
   "file_extension": ".py",
   "mimetype": "text/x-python",
   "name": "python",
   "nbconvert_exporter": "python",
   "pygments_lexer": "ipython3",
   "version": "3.7.4"
  }
 },
 "nbformat": 4,
 "nbformat_minor": 2
}
