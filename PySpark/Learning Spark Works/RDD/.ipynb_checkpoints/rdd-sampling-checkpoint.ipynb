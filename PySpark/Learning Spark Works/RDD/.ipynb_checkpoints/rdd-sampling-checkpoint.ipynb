{
 "cells": [
  {
   "cell_type": "code",
   "execution_count": 1,
   "metadata": {},
   "outputs": [],
   "source": [
    "import findspark\n",
    "findspark.init()\n",
    "import sys\n",
    "from pyspark import SparkContext,SparkConf"
   ]
  },
  {
   "cell_type": "code",
   "execution_count": 2,
   "metadata": {},
   "outputs": [],
   "source": [
    "master = \"local\"\n",
    "if len(sys.argv) == 2:\n",
    "    master = sys.argv[1]\n",
    "conf = SparkConf().setMaster(master).setAppName(\"rdd-sampling\")\n",
    "sc = SparkContext(conf=conf)"
   ]
  },
  {
   "cell_type": "code",
   "execution_count": 3,
   "metadata": {},
   "outputs": [],
   "source": [
    "data_file_path = \"../data/kddcup.data_10_percent.gz\"\n",
    "raw_data = sc.textFile(data_file_path)"
   ]
  },
  {
   "cell_type": "code",
   "execution_count": 6,
   "metadata": {},
   "outputs": [
    {
     "data": {
      "text/plain": [
       "['0,tcp,http,SF,181,5450,0,0,0,0,0,1,0,0,0,0,0,0,0,0,0,0,8,8,0.00,0.00,0.00,0.00,1.00,0.00,0.00,9,9,1.00,0.00,0.11,0.00,0.00,0.00,0.00,0.00,normal.',\n",
       " '0,tcp,http,SF,239,486,0,0,0,0,0,1,0,0,0,0,0,0,0,0,0,0,8,8,0.00,0.00,0.00,0.00,1.00,0.00,0.00,19,19,1.00,0.00,0.05,0.00,0.00,0.00,0.00,0.00,normal.',\n",
       " '0,tcp,http,SF,235,1337,0,0,0,0,0,1,0,0,0,0,0,0,0,0,0,0,8,8,0.00,0.00,0.00,0.00,1.00,0.00,0.00,29,29,1.00,0.00,0.03,0.00,0.00,0.00,0.00,0.00,normal.',\n",
       " '0,tcp,http,SF,219,1337,0,0,0,0,0,1,0,0,0,0,0,0,0,0,0,0,6,6,0.00,0.00,0.00,0.00,1.00,0.00,0.00,39,39,1.00,0.00,0.03,0.00,0.00,0.00,0.00,0.00,normal.',\n",
       " '0,tcp,http,SF,217,2032,0,0,0,0,0,1,0,0,0,0,0,0,0,0,0,0,6,6,0.00,0.00,0.00,0.00,1.00,0.00,0.00,49,49,1.00,0.00,0.02,0.00,0.00,0.00,0.00,0.00,normal.']"
      ]
     },
     "execution_count": 6,
     "metadata": {},
     "output_type": "execute_result"
    }
   ],
   "source": [
    "# 查看数据文件中的数据组成\n",
    "raw_data.take(5)"
   ]
  },
  {
   "cell_type": "code",
   "execution_count": 8,
   "metadata": {},
   "outputs": [
    {
     "name": "stdout",
     "output_type": "stream",
     "text": [
      "Sample size is 49493 of 494021\n"
     ]
    }
   ],
   "source": [
    "# 对数据进行抽样\n",
    "raw_data_sample = raw_data.sample(False,0.1,1234) # 表示是否用随机值替换，取样比例，随机种子数\n",
    "sample_size = raw_data_sample.count()\n",
    "total_size = raw_data.count()\n",
    "print(\"Sample size is {} of {}\".format(sample_size,total_size))"
   ]
  },
  {
   "cell_type": "code",
   "execution_count": 11,
   "metadata": {},
   "outputs": [
    {
     "name": "stdout",
     "output_type": "stream",
     "text": [
      "The ratio of 'normal' interactions is 0.195\n",
      "Count done in 1.925 seconds\n"
     ]
    }
   ],
   "source": [
    "from time import time\n",
    "raw_data_sample_items = raw_data_sample.flatMap(lambda x:x.split(\",\"))\n",
    "sample_normal_items = raw_data_sample_items.filter(lambda x:\"normal.\" in x)\n",
    "t0 = time()\n",
    "sample_normal_items_count = sample_normal_items.count()\n",
    "t1 = time()-t0\n",
    "sample_normal_ratio = sample_normal_items_count / float(sample_size)\n",
    "\n",
    "print(\"The ratio of 'normal' interactions is {}\".format(round(sample_normal_ratio,3)))\n",
    "print(\"Count done in {} seconds\".format(round(t1,3)))"
   ]
  },
  {
   "cell_type": "code",
   "execution_count": 12,
   "metadata": {},
   "outputs": [
    {
     "name": "stdout",
     "output_type": "stream",
     "text": [
      "The radio of 'normal' is 0.197\n",
      "Count done in 9.077 seconds\n"
     ]
    }
   ],
   "source": [
    "raw_data_items = raw_data.flatMap(lambda x:x.split(\",\"))\n",
    "normal_items = raw_data_items.filter(lambda x:\"normal.\" in x)\n",
    "\n",
    "t0 = time()\n",
    "normal_items_count = normal_items.count()\n",
    "t1 = time() - t0\n",
    "\n",
    "normal_item_ratio = normal_items_count / float(total_size)\n",
    "\n",
    "print(\"The radio of 'normal' is {}\".format(round(normal_item_ratio,3)))\n",
    "print(\"Count done in {} seconds\".format(round(t1,3)))"
   ]
  },
  {
   "cell_type": "code",
   "execution_count": 17,
   "metadata": {},
   "outputs": [
    {
     "name": "stdout",
     "output_type": "stream",
     "text": [
      "The radio of 'normal' is 0.196\n",
      "Count done in 3.054 seconds\n"
     ]
    }
   ],
   "source": [
    "# takeSample算子进行抽样\n",
    "# 不是指定抽样比例，而是指定抽取样本的数量\n",
    "t0 = time()\n",
    "raw_data_sample = raw_data.takeSample(False,100000,1234)\n",
    "# type(raw_data_sample)  # list\n",
    "normal_data_sample = [x.split(\",\") for x in raw_data_sample if \"normal.\" in x]\n",
    "t1 = time() - t0\n",
    "normal_sample_size = len(normal_data_sample)\n",
    "normal_ratio = normal_sample_size / float(100000)\n",
    "\n",
    "print(\"The radio of 'normal' is {}\".format(round(normal_ratio,3)))\n",
    "print(\"Count done in {} seconds\".format(round(t1,3)))"
   ]
  },
  {
   "cell_type": "code",
   "execution_count": null,
   "metadata": {},
   "outputs": [],
   "source": []
  }
 ],
 "metadata": {
  "kernelspec": {
   "display_name": "Python 3",
   "language": "python",
   "name": "python3"
  },
  "language_info": {
   "codemirror_mode": {
    "name": "ipython",
    "version": 3
   },
   "file_extension": ".py",
   "mimetype": "text/x-python",
   "name": "python",
   "nbconvert_exporter": "python",
   "pygments_lexer": "ipython3",
   "version": "3.7.4"
  }
 },
 "nbformat": 4,
 "nbformat_minor": 2
}
