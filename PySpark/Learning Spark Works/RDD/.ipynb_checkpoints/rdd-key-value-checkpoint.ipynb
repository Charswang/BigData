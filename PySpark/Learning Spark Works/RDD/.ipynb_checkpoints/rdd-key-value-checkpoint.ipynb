{
 "cells": [
  {
   "cell_type": "code",
   "execution_count": 1,
   "metadata": {},
   "outputs": [],
   "source": [
    "import findspark\n",
    "findspark.init()\n",
    "import sys\n",
    "from time import time\n",
    "from pyspark import SparkContext,SparkConf"
   ]
  },
  {
   "cell_type": "code",
   "execution_count": 3,
   "metadata": {},
   "outputs": [],
   "source": [
    "master = \"local\"\n",
    "if len(sys.argv) == 2:\n",
    "    master = sys.argv[1]\n",
    "conf = SparkConf().setMaster(master).setAppName(\"rdd-key-value\")\n",
    "sc = SparkContext(conf=conf)"
   ]
  },
  {
   "cell_type": "code",
   "execution_count": 5,
   "metadata": {},
   "outputs": [
    {
     "data": {
      "text/plain": [
       "(['0,tcp,http,SF,181,5450,0,0,0,0,0,1,0,0,0,0,0,0,0,0,0,0,8,8,0.00,0.00,0.00,0.00,1.00,0.00,0.00,9,9,1.00,0.00,0.11,0.00,0.00,0.00,0.00,0.00,normal.'],\n",
       " pyspark.rdd.RDD)"
      ]
     },
     "execution_count": 5,
     "metadata": {},
     "output_type": "execute_result"
    }
   ],
   "source": [
    "file_path = \"../data/kddcup.data_10_percent.gz\"\n",
    "raw_data = sc.textFile(file_path)\n",
    "raw_data.take(1),type(raw_data) # pyspark.rdd.RDD"
   ]
  },
  {
   "cell_type": "markdown",
   "metadata": {},
   "source": [
    "#### 利用现有数据创建出一个pair rdd"
   ]
  },
  {
   "cell_type": "code",
   "execution_count": 6,
   "metadata": {
    "scrolled": true
   },
   "outputs": [
    {
     "data": {
      "text/plain": [
       "(pyspark.rdd.PipelinedRDD,\n",
       " [['0',\n",
       "   'tcp',\n",
       "   'http',\n",
       "   'SF',\n",
       "   '181',\n",
       "   '5450',\n",
       "   '0',\n",
       "   '0',\n",
       "   '0',\n",
       "   '0',\n",
       "   '0',\n",
       "   '1',\n",
       "   '0',\n",
       "   '0',\n",
       "   '0',\n",
       "   '0',\n",
       "   '0',\n",
       "   '0',\n",
       "   '0',\n",
       "   '0',\n",
       "   '0',\n",
       "   '0',\n",
       "   '8',\n",
       "   '8',\n",
       "   '0.00',\n",
       "   '0.00',\n",
       "   '0.00',\n",
       "   '0.00',\n",
       "   '1.00',\n",
       "   '0.00',\n",
       "   '0.00',\n",
       "   '9',\n",
       "   '9',\n",
       "   '1.00',\n",
       "   '0.00',\n",
       "   '0.11',\n",
       "   '0.00',\n",
       "   '0.00',\n",
       "   '0.00',\n",
       "   '0.00',\n",
       "   '0.00',\n",
       "   'normal.'],\n",
       "  ['0',\n",
       "   'tcp',\n",
       "   'http',\n",
       "   'SF',\n",
       "   '239',\n",
       "   '486',\n",
       "   '0',\n",
       "   '0',\n",
       "   '0',\n",
       "   '0',\n",
       "   '0',\n",
       "   '1',\n",
       "   '0',\n",
       "   '0',\n",
       "   '0',\n",
       "   '0',\n",
       "   '0',\n",
       "   '0',\n",
       "   '0',\n",
       "   '0',\n",
       "   '0',\n",
       "   '0',\n",
       "   '8',\n",
       "   '8',\n",
       "   '0.00',\n",
       "   '0.00',\n",
       "   '0.00',\n",
       "   '0.00',\n",
       "   '1.00',\n",
       "   '0.00',\n",
       "   '0.00',\n",
       "   '19',\n",
       "   '19',\n",
       "   '1.00',\n",
       "   '0.00',\n",
       "   '0.05',\n",
       "   '0.00',\n",
       "   '0.00',\n",
       "   '0.00',\n",
       "   '0.00',\n",
       "   '0.00',\n",
       "   'normal.']])"
      ]
     },
     "execution_count": 6,
     "metadata": {},
     "output_type": "execute_result"
    }
   ],
   "source": [
    "csv_data = raw_data.map(lambda x:x.split(\",\"))\n",
    "type(csv_data),csv_data.take(2)"
   ]
  },
  {
   "cell_type": "code",
   "execution_count": 7,
   "metadata": {
    "scrolled": true
   },
   "outputs": [
    {
     "data": {
      "text/plain": [
       "(pyspark.rdd.PipelinedRDD,\n",
       " [('normal.',\n",
       "   ['0',\n",
       "    'tcp',\n",
       "    'http',\n",
       "    'SF',\n",
       "    '181',\n",
       "    '5450',\n",
       "    '0',\n",
       "    '0',\n",
       "    '0',\n",
       "    '0',\n",
       "    '0',\n",
       "    '1',\n",
       "    '0',\n",
       "    '0',\n",
       "    '0',\n",
       "    '0',\n",
       "    '0',\n",
       "    '0',\n",
       "    '0',\n",
       "    '0',\n",
       "    '0',\n",
       "    '0',\n",
       "    '8',\n",
       "    '8',\n",
       "    '0.00',\n",
       "    '0.00',\n",
       "    '0.00',\n",
       "    '0.00',\n",
       "    '1.00',\n",
       "    '0.00',\n",
       "    '0.00',\n",
       "    '9',\n",
       "    '9',\n",
       "    '1.00',\n",
       "    '0.00',\n",
       "    '0.11',\n",
       "    '0.00',\n",
       "    '0.00',\n",
       "    '0.00',\n",
       "    '0.00',\n",
       "    '0.00',\n",
       "    'normal.']),\n",
       "  ('normal.',\n",
       "   ['0',\n",
       "    'tcp',\n",
       "    'http',\n",
       "    'SF',\n",
       "    '239',\n",
       "    '486',\n",
       "    '0',\n",
       "    '0',\n",
       "    '0',\n",
       "    '0',\n",
       "    '0',\n",
       "    '1',\n",
       "    '0',\n",
       "    '0',\n",
       "    '0',\n",
       "    '0',\n",
       "    '0',\n",
       "    '0',\n",
       "    '0',\n",
       "    '0',\n",
       "    '0',\n",
       "    '0',\n",
       "    '8',\n",
       "    '8',\n",
       "    '0.00',\n",
       "    '0.00',\n",
       "    '0.00',\n",
       "    '0.00',\n",
       "    '1.00',\n",
       "    '0.00',\n",
       "    '0.00',\n",
       "    '19',\n",
       "    '19',\n",
       "    '1.00',\n",
       "    '0.00',\n",
       "    '0.05',\n",
       "    '0.00',\n",
       "    '0.00',\n",
       "    '0.00',\n",
       "    '0.00',\n",
       "    '0.00',\n",
       "    'normal.'])])"
      ]
     },
     "execution_count": 7,
     "metadata": {},
     "output_type": "execute_result"
    }
   ],
   "source": [
    "key_value_data = csv_data.map(lambda x:(x[41],x))\n",
    "type(key_value_data),key_value_data.take(2)"
   ]
  },
  {
   "cell_type": "markdown",
   "metadata": {},
   "source": [
    "#### pair rdd算子"
   ]
  },
  {
   "cell_type": "markdown",
   "metadata": {},
   "source": [
    "#### reduceByKey"
   ]
  },
  {
   "cell_type": "code",
   "execution_count": 8,
   "metadata": {},
   "outputs": [
    {
     "data": {
      "text/plain": [
       "[('normal.', 21075991.0),\n",
       " ('buffer_overflow.', 2751.0),\n",
       " ('loadmodule.', 326.0),\n",
       " ('perl.', 124.0),\n",
       " ('neptune.', 0.0),\n",
       " ('smurf.', 0.0),\n",
       " ('guess_passwd.', 144.0),\n",
       " ('pod.', 0.0),\n",
       " ('teardrop.', 0.0),\n",
       " ('portsweep.', 1991911.0),\n",
       " ('ipsweep.', 43.0),\n",
       " ('land.', 0.0),\n",
       " ('ftp_write.', 259.0),\n",
       " ('back.', 284.0),\n",
       " ('imap.', 72.0),\n",
       " ('satan.', 64.0),\n",
       " ('phf.', 18.0),\n",
       " ('nmap.', 0.0),\n",
       " ('multihop.', 1288.0),\n",
       " ('warezmaster.', 301.0),\n",
       " ('warezclient.', 627563.0),\n",
       " ('spy.', 636.0),\n",
       " ('rootkit.', 1008.0)]"
      ]
     },
     "execution_count": 8,
     "metadata": {},
     "output_type": "execute_result"
    }
   ],
   "source": [
    "key_value_duration = csv_data.map(lambda x:(x[41],float(x[0])))\n",
    "duration_by_key = key_value_duration.reduceByKey(lambda x,y:x+y)\n",
    "duration_by_key.collect()"
   ]
  },
  {
   "cell_type": "markdown",
   "metadata": {},
   "source": [
    "#### sortBy(fun,True)"
   ]
  },
  {
   "cell_type": "code",
   "execution_count": 10,
   "metadata": {},
   "outputs": [
    {
     "data": {
      "text/plain": [
       "[('warezmaster.', 301.0),\n",
       " ('warezclient.', 627563.0),\n",
       " ('teardrop.', 0.0),\n",
       " ('spy.', 636.0),\n",
       " ('smurf.', 0.0),\n",
       " ('satan.', 64.0),\n",
       " ('rootkit.', 1008.0),\n",
       " ('portsweep.', 1991911.0),\n",
       " ('pod.', 0.0),\n",
       " ('phf.', 18.0),\n",
       " ('perl.', 124.0),\n",
       " ('normal.', 21075991.0),\n",
       " ('nmap.', 0.0),\n",
       " ('neptune.', 0.0),\n",
       " ('multihop.', 1288.0),\n",
       " ('loadmodule.', 326.0),\n",
       " ('land.', 0.0),\n",
       " ('ipsweep.', 43.0),\n",
       " ('imap.', 72.0),\n",
       " ('guess_passwd.', 144.0),\n",
       " ('ftp_write.', 259.0),\n",
       " ('buffer_overflow.', 2751.0),\n",
       " ('back.', 284.0)]"
      ]
     },
     "execution_count": 10,
     "metadata": {},
     "output_type": "execute_result"
    }
   ],
   "source": [
    "duration_sortBy_key = duration_by_key.sortBy(lambda x:x[0],True) # 按照key升序排序\n",
    "duration_sortBy_key.collect()"
   ]
  },
  {
   "cell_type": "markdown",
   "metadata": {},
   "source": [
    "#### countByKey()算子是Action操作"
   ]
  },
  {
   "cell_type": "code",
   "execution_count": 12,
   "metadata": {},
   "outputs": [
    {
     "data": {
      "text/plain": [
       "(collections.defaultdict,\n",
       " defaultdict(int,\n",
       "             {'normal.': 97278,\n",
       "              'buffer_overflow.': 30,\n",
       "              'loadmodule.': 9,\n",
       "              'perl.': 3,\n",
       "              'neptune.': 107201,\n",
       "              'smurf.': 280790,\n",
       "              'guess_passwd.': 53,\n",
       "              'pod.': 264,\n",
       "              'teardrop.': 979,\n",
       "              'portsweep.': 1040,\n",
       "              'ipsweep.': 1247,\n",
       "              'land.': 21,\n",
       "              'ftp_write.': 8,\n",
       "              'back.': 2203,\n",
       "              'imap.': 12,\n",
       "              'satan.': 1589,\n",
       "              'phf.': 4,\n",
       "              'nmap.': 231,\n",
       "              'multihop.': 7,\n",
       "              'warezmaster.': 20,\n",
       "              'warezclient.': 1020,\n",
       "              'spy.': 2,\n",
       "              'rootkit.': 10}))"
      ]
     },
     "execution_count": 12,
     "metadata": {},
     "output_type": "execute_result"
    }
   ],
   "source": [
    "counts_by_key = key_value_data.countByKey() # defaultdict格式\n",
    "type(counts_by_key),counts_by_key"
   ]
  },
  {
   "cell_type": "code",
   "execution_count": 14,
   "metadata": {},
   "outputs": [
    {
     "data": {
      "text/plain": [
       "dict_keys"
      ]
     },
     "execution_count": 14,
     "metadata": {},
     "output_type": "execute_result"
    }
   ],
   "source": [
    "type(counts_by_key.keys())"
   ]
  },
  {
   "cell_type": "code",
   "execution_count": 23,
   "metadata": {
    "scrolled": true
   },
   "outputs": [
    {
     "name": "stdout",
     "output_type": "stream",
     "text": [
      "normal.->97278\n",
      "buffer_overflow.->30\n",
      "loadmodule.->9\n",
      "perl.->3\n",
      "neptune.->107201\n",
      "smurf.->280790\n",
      "guess_passwd.->53\n",
      "pod.->264\n",
      "teardrop.->979\n",
      "portsweep.->1040\n",
      "ipsweep.->1247\n",
      "land.->21\n",
      "ftp_write.->8\n",
      "back.->2203\n",
      "imap.->12\n",
      "satan.->1589\n",
      "phf.->4\n",
      "nmap.->231\n",
      "multihop.->7\n",
      "warezmaster.->20\n",
      "warezclient.->1020\n",
      "spy.->2\n",
      "rootkit.->10\n"
     ]
    }
   ],
   "source": [
    "for i in counts_by_key.keys():\n",
    "#     print(i,\",\",counts_by_key[i])\n",
    "    print(i + \"->\" + str(counts_by_key[i]))"
   ]
  },
  {
   "cell_type": "markdown",
   "metadata": {},
   "source": [
    "#### combineByKey"
   ]
  },
  {
   "cell_type": "markdown",
   "metadata": {},
   "source": [
    "python中格式化字符串"
   ]
  },
  {
   "cell_type": "code",
   "execution_count": 28,
   "metadata": {},
   "outputs": [
    {
     "name": "stdout",
     "output_type": "stream",
     "text": [
      "hello pyspark\n"
     ]
    }
   ],
   "source": [
    "s = \"hello pyspark\"\n",
    "print(f\"{s}\")"
   ]
  },
  {
   "cell_type": "code",
   "execution_count": null,
   "metadata": {},
   "outputs": [],
   "source": []
  }
 ],
 "metadata": {
  "kernelspec": {
   "display_name": "Python 3",
   "language": "python",
   "name": "python3"
  },
  "language_info": {
   "codemirror_mode": {
    "name": "ipython",
    "version": 3
   },
   "file_extension": ".py",
   "mimetype": "text/x-python",
   "name": "python",
   "nbconvert_exporter": "python",
   "pygments_lexer": "ipython3",
   "version": "3.7.4"
  }
 },
 "nbformat": 4,
 "nbformat_minor": 2
}
